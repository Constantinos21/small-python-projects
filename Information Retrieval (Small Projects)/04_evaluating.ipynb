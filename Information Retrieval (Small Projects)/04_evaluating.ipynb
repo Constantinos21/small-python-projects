{
 "cells": [
  {
   "cell_type": "markdown",
   "metadata": {},
   "source": [
    "# Assignment 4: Evaluating Search Engines"
   ]
  },
  {
   "cell_type": "markdown",
   "metadata": {},
   "source": [
    "For this assignment, we leave aside the code we developed so far, and look into the more general issue of how to evaluate and compare different search engines. The ultimate test for any Information Retrieval system is how well it is able to satisfy the information needs of users."
   ]
  },
  {
   "cell_type": "markdown",
   "metadata": {},
   "source": [
    "# Cohen's Kappa"
   ]
  },
  {
   "cell_type": "markdown",
   "metadata": {},
   "source": [
    "Our evaluation will involve the calculation of [Cohen's kappa](https://en.wikipedia.org/wiki/Cohen's_kappa) to quantify the degree to which two human assessors agree or disagree on whether results are considered relevant or not. To calculate Cohen's kappa, we are going to use the [scikit-learn library](http://scikit-learn.org/stable/):"
   ]
  },
  {
   "cell_type": "code",
   "execution_count": 1,
   "metadata": {},
   "outputs": [
    {
     "name": "stdout",
     "output_type": "stream",
     "text": [
      "Requirement already satisfied: scikit-learn in c:\\users\\user\\appdata\\roaming\\python\\python310\\site-packages (1.3.0)\n",
      "Requirement already satisfied: numpy>=1.17.3 in c:\\users\\user\\appdata\\roaming\\python\\python310\\site-packages (from scikit-learn) (1.25.2)\n",
      "Requirement already satisfied: scipy>=1.5.0 in c:\\users\\user\\appdata\\roaming\\python\\python310\\site-packages (from scikit-learn) (1.11.2)\n",
      "Requirement already satisfied: joblib>=1.1.1 in c:\\users\\user\\appdata\\roaming\\python\\python310\\site-packages (from scikit-learn) (1.3.2)\n",
      "Requirement already satisfied: threadpoolctl>=2.0.0 in c:\\users\\user\\appdata\\roaming\\python\\python310\\site-packages (from scikit-learn) (3.2.0)\n"
     ]
    }
   ],
   "source": [
    "! pip install --user scikit-learn"
   ]
  },
  {
   "cell_type": "code",
   "execution_count": 2,
   "metadata": {},
   "outputs": [],
   "source": [
    "from sklearn.metrics import cohen_kappa_score"
   ]
  },
  {
   "cell_type": "markdown",
   "metadata": {},
   "source": [
    "This library expects relevance assessments as lists of elements where `1` stands for _relevant_ and `0` stands for _not relevant_, for example like this:"
   ]
  },
  {
   "cell_type": "code",
   "execution_count": 3,
   "metadata": {},
   "outputs": [],
   "source": [
    "a1=[1,0,1,0,1,0,1,0]"
   ]
  },
  {
   "cell_type": "markdown",
   "metadata": {},
   "source": [
    "This list means that the first document was assessed to be relevant, the second to be not relevant, the third to be relevant etc.\n",
    "\n",
    "We need two assessments in order to calculate Cohen's kappa, so let's make another exemplary list that only differs on the last element:"
   ]
  },
  {
   "cell_type": "code",
   "execution_count": 4,
   "metadata": {},
   "outputs": [],
   "source": [
    "a2=[1,0,1,0,1,0,1,1]"
   ]
  },
  {
   "cell_type": "markdown",
   "metadata": {},
   "source": [
    "We can now invoke the library as follows to calculate the agreement between the two:"
   ]
  },
  {
   "cell_type": "code",
   "execution_count": 5,
   "metadata": {},
   "outputs": [
    {
     "data": {
      "text/plain": [
       "0.75"
      ]
     },
     "execution_count": 5,
     "metadata": {},
     "output_type": "execute_result"
    }
   ],
   "source": [
    "cohen_kappa_score(a1, a2)"
   ]
  },
  {
   "cell_type": "markdown",
   "metadata": {},
   "source": [
    "This value represents high agreement. We can reach maximal agreement if the two assessments are identical:"
   ]
  },
  {
   "cell_type": "code",
   "execution_count": 6,
   "metadata": {},
   "outputs": [
    {
     "data": {
      "text/plain": [
       "1.0"
      ]
     },
     "execution_count": 6,
     "metadata": {},
     "output_type": "execute_result"
    }
   ],
   "source": [
    "cohen_kappa_score(a1, a1)"
   ]
  },
  {
   "cell_type": "markdown",
   "metadata": {},
   "source": [
    "Now, let's see what happens for a third assessment that differs on three positions with the first one (the three last positions):"
   ]
  },
  {
   "cell_type": "code",
   "execution_count": 7,
   "metadata": {},
   "outputs": [
    {
     "data": {
      "text/plain": [
       "0.25"
      ]
     },
     "execution_count": 7,
     "metadata": {},
     "output_type": "execute_result"
    }
   ],
   "source": [
    "a3=[1,0,1,0,1,1,0,1]\n",
    "\n",
    "cohen_kappa_score(a1, a3)"
   ]
  },
  {
   "cell_type": "markdown",
   "metadata": {},
   "source": [
    "We get a smaller but still positive value, because these two assessments still mostly agree. If we make a further example that differs on 6 of the 8 positions, we get the following result:"
   ]
  },
  {
   "cell_type": "code",
   "execution_count": 8,
   "metadata": {},
   "outputs": [
    {
     "data": {
      "text/plain": [
       "-0.5"
      ]
     },
     "execution_count": 8,
     "metadata": {},
     "output_type": "execute_result"
    }
   ],
   "source": [
    "a4=[1,0,0,1,0,1,0,1]\n",
    "\n",
    "cohen_kappa_score(a1, a4)"
   ]
  },
  {
   "cell_type": "markdown",
   "metadata": {},
   "source": [
    "The score is now negative, because the two differ on more positions than they agree. The agreement is in fact less than what you would expect to occur just by chance. We get the maximal disagreement if we define a fifth example that disagrees on all positions:"
   ]
  },
  {
   "cell_type": "code",
   "execution_count": 9,
   "metadata": {},
   "outputs": [
    {
     "data": {
      "text/plain": [
       "-1.0"
      ]
     },
     "execution_count": 9,
     "metadata": {},
     "output_type": "execute_result"
    }
   ],
   "source": [
    "a5=[0,1,0,1,0,1,0,1]\n",
    "\n",
    "cohen_kappa_score(a1, a5)"
   ]
  },
  {
   "cell_type": "markdown",
   "metadata": {},
   "source": [
    "Be aware that the kappa score cannot be calculated if you have only `1`s or only `0`s:"
   ]
  },
  {
   "cell_type": "code",
   "execution_count": 10,
   "metadata": {},
   "outputs": [
    {
     "name": "stderr",
     "output_type": "stream",
     "text": [
      "C:\\Users\\User\\AppData\\Roaming\\Python\\Python310\\site-packages\\sklearn\\metrics\\_classification.py:697: RuntimeWarning: invalid value encountered in scalar divide\n",
      "  k = np.sum(w_mat * confusion) / np.sum(w_mat * expected)\n"
     ]
    },
    {
     "data": {
      "text/plain": [
       "nan"
      ]
     },
     "execution_count": 10,
     "metadata": {},
     "output_type": "execute_result"
    }
   ],
   "source": [
    "a6=[1,1,1,1,1,1,1,1]\n",
    "a7=[1,1,1,1,1,1,1,1]\n",
    "\n",
    "cohen_kappa_score(a6, a7)"
   ]
  },
  {
   "cell_type": "markdown",
   "metadata": {},
   "source": [
    "And in the case of a highly skewed set (either vast majority of agreements on `1` or vast majority of agreements on `0`), the kappa score can be counter-intuitive:"
   ]
  },
  {
   "cell_type": "code",
   "execution_count": 11,
   "metadata": {},
   "outputs": [
    {
     "data": {
      "text/plain": [
       "-0.1428571428571428"
      ]
     },
     "execution_count": 11,
     "metadata": {},
     "output_type": "execute_result"
    }
   ],
   "source": [
    "a8=[1,1,1,1,1,1,0,1]\n",
    "a9=[1,1,1,1,1,1,1,0]\n",
    "\n",
    "cohen_kappa_score(a8, a9)"
   ]
  },
  {
   "cell_type": "markdown",
   "metadata": {},
   "source": [
    "Now that we understand how this function works, we will apply it below for our specific evaluation."
   ]
  },
  {
   "cell_type": "markdown",
   "metadata": {},
   "source": [
    "# Results and Assessments\n",
    "\n",
    "Next, we will define some auxilary code to deal with lists of URLs from search engines and associated relevance assessments. We will encode result lists like this:"
   ]
  },
  {
   "cell_type": "code",
   "execution_count": 12,
   "metadata": {},
   "outputs": [],
   "source": [
    "urls = [\n",
    "    'https://en.wikipedia.org/wiki/Information_retrieval/',  # 1st result\n",
    "    'http://www.dictionary.com/browse/information',          # 2nd result\n",
    "    'https://nlp.stanford.edu/IR-book/'                      # ...\n",
    "]"
   ]
  },
  {
   "cell_type": "markdown",
   "metadata": {},
   "source": [
    "And we represent corresponding assessments, as above, as lists of the same size containing relevance values:"
   ]
  },
  {
   "cell_type": "code",
   "execution_count": 13,
   "metadata": {},
   "outputs": [],
   "source": [
    "my_assessment = [1, 0, 1]\n",
    "another_assessment = [0, 0, 1]"
   ]
  },
  {
   "cell_type": "markdown",
   "metadata": {},
   "source": [
    "In order to nicely display URL lists, with or without related assessments, we define a function called `display_results`:"
   ]
  },
  {
   "cell_type": "code",
   "execution_count": 14,
   "metadata": {},
   "outputs": [],
   "source": [
    "from IPython.display import display, HTML\n",
    "\n",
    "def display_results(urls, assessment1=None, assessment2=None):\n",
    "    lines = []\n",
    "    lines.append('<table>')\n",
    "    header = '<tr><th>#</th><th>Result URL</th>'\n",
    "    if (assessment1):\n",
    "        header += '<th>Assessment 1</th>'\n",
    "    if (assessment2):\n",
    "        header += '<th>Assessment 2</th>'\n",
    "    header += '</tr>'\n",
    "    lines.append(header)\n",
    "    i = 0\n",
    "    for url in urls:\n",
    "        show_url = url\n",
    "        if (len(url) > 80):\n",
    "            show_url = url[:75] + '...'\n",
    "        line = '<tr><td>{}</td><td><a href=\"{:s}\">{:s}</a></td>'.format(i+1, url, show_url)\n",
    "        if (assessment1):\n",
    "            if (assessment1[i] == 0):\n",
    "                line += '<td><em>Not relevant</em></td>'\n",
    "            else:\n",
    "                line += '<td><strong>Relevant</strong></td>'\n",
    "        if (assessment2):\n",
    "            if (assessment2[i] == 0):\n",
    "                line += '<td><em>Not relevant</em></td>'\n",
    "            else:\n",
    "                line += '<td><strong>Relevant</strong></td>'\n",
    "        line += '</tr>'\n",
    "        lines.append(line)\n",
    "        i = i+1\n",
    "    lines.append('</table>')\n",
    "    display( HTML(''.join(lines)) )"
   ]
  },
  {
   "cell_type": "markdown",
   "metadata": {},
   "source": [
    "We can use this function to display a list of URLs, optionally together with one or two assessment lists:"
   ]
  },
  {
   "cell_type": "code",
   "execution_count": 15,
   "metadata": {},
   "outputs": [
    {
     "name": "stdout",
     "output_type": "stream",
     "text": [
      "Just a list of URLs:\n"
     ]
    },
    {
     "data": {
      "text/html": [
       "<table><tr><th>#</th><th>Result URL</th></tr><tr><td>1</td><td><a href=\"https://en.wikipedia.org/wiki/Information_retrieval/\">https://en.wikipedia.org/wiki/Information_retrieval/</a></td></tr><tr><td>2</td><td><a href=\"http://www.dictionary.com/browse/information\">http://www.dictionary.com/browse/information</a></td></tr><tr><td>3</td><td><a href=\"https://nlp.stanford.edu/IR-book/\">https://nlp.stanford.edu/IR-book/</a></td></tr></table>"
      ],
      "text/plain": [
       "<IPython.core.display.HTML object>"
      ]
     },
     "metadata": {},
     "output_type": "display_data"
    },
    {
     "name": "stdout",
     "output_type": "stream",
     "text": [
      "With one assessment:\n"
     ]
    },
    {
     "data": {
      "text/html": [
       "<table><tr><th>#</th><th>Result URL</th><th>Assessment 1</th></tr><tr><td>1</td><td><a href=\"https://en.wikipedia.org/wiki/Information_retrieval/\">https://en.wikipedia.org/wiki/Information_retrieval/</a></td><td><strong>Relevant</strong></td></tr><tr><td>2</td><td><a href=\"http://www.dictionary.com/browse/information\">http://www.dictionary.com/browse/information</a></td><td><em>Not relevant</em></td></tr><tr><td>3</td><td><a href=\"https://nlp.stanford.edu/IR-book/\">https://nlp.stanford.edu/IR-book/</a></td><td><strong>Relevant</strong></td></tr></table>"
      ],
      "text/plain": [
       "<IPython.core.display.HTML object>"
      ]
     },
     "metadata": {},
     "output_type": "display_data"
    },
    {
     "name": "stdout",
     "output_type": "stream",
     "text": [
      "With two assessments:\n"
     ]
    },
    {
     "data": {
      "text/html": [
       "<table><tr><th>#</th><th>Result URL</th><th>Assessment 1</th><th>Assessment 2</th></tr><tr><td>1</td><td><a href=\"https://en.wikipedia.org/wiki/Information_retrieval/\">https://en.wikipedia.org/wiki/Information_retrieval/</a></td><td><strong>Relevant</strong></td><td><em>Not relevant</em></td></tr><tr><td>2</td><td><a href=\"http://www.dictionary.com/browse/information\">http://www.dictionary.com/browse/information</a></td><td><em>Not relevant</em></td><td><em>Not relevant</em></td></tr><tr><td>3</td><td><a href=\"https://nlp.stanford.edu/IR-book/\">https://nlp.stanford.edu/IR-book/</a></td><td><strong>Relevant</strong></td><td><strong>Relevant</strong></td></tr></table>"
      ],
      "text/plain": [
       "<IPython.core.display.HTML object>"
      ]
     },
     "metadata": {},
     "output_type": "display_data"
    }
   ],
   "source": [
    "print(\"Just a list of URLs:\")\n",
    "display_results(urls)\n",
    "\n",
    "print(\"With one assessment:\")\n",
    "display_results(urls, my_assessment)\n",
    "\n",
    "print(\"With two assessments:\")\n",
    "display_results(urls, my_assessment, another_assessment)"
   ]
  },
  {
   "cell_type": "markdown",
   "metadata": {},
   "source": [
    "Now we are ready to perform an actual evaluation, which will involve a substantial amount of manual work."
   ]
  },
  {
   "cell_type": "markdown",
   "metadata": {},
   "source": [
    "---"
   ]
  },
  {
   "cell_type": "markdown",
   "metadata": {},
   "source": [
    "# Tasks"
   ]
  },
  {
   "cell_type": "markdown",
   "metadata": {},
   "source": [
    "**Your name:** Constantinos Dimitriou"
   ]
  },
  {
   "cell_type": "markdown",
   "metadata": {},
   "source": [
    "### Task 1\n",
    "\n",
    "Think up and formulate a information need (for example in the field of Computer Science or Medicine) for which you think the answer can be found in scientific publications. On page 152 in the book an example of such an information need is shown: \"Information on whether drinking red wine is more effective at reducing the risk of heart attacks than white wine.\""
   ]
  },
  {
   "cell_type": "markdown",
   "metadata": {},
   "source": [
    "**Answer:** My information need is to understand the impact of specific Linux operating system components on system performance. I am looking for scientific publications that analyze the performance implications of kernel updates, system calls, or driver optimizations in Linux."
   ]
  },
  {
   "cell_type": "markdown",
   "metadata": {},
   "source": [
    "Next, write down specifically what documents have to look like to satisfy your information need. For example if your information need is about finding an overview of different cancer types, you could state that a document would need to list at least ten types of cancer to satisfy your information need (among other criteria). Write this down as a protocol with rules and examples. For example, such a protocol could state that at least three out of five given criteria have to be fulfilled for a document to be considered relevant for the information need, and then specify the criteria. Or your protocol could have the form of a sequence of rules, where each rule lets you either label the document as relevant or not relevant, or proceed with the next rule. Such rules and criteria can, for example, be about the general topic of the paper, the concepts mentioned in it, the covered relations between concepts, the type of publication (research paper, overview paper, etc.), the number of references, the types of contained diagrams, and so on, depending on your specified information need."
   ]
  },
  {
   "cell_type": "markdown",
   "metadata": {},
   "source": [
    "**Answer:** The document must discuss Linux operating system components with a focus on kernel, system calls, or drivers.\n",
    "Next, the document should provide an analysis of system performance, including benchmarks or performance metrics. Also, the publication must be from a peer-reviewed journal or conference proceedings. The document should be published within the last 5 years to ensure the information is up to date. Additionally, the paper must include empirical results or simulations that demonstrate the performance impact. Lastly, the document must be available in full-text form."
   ]
  },
  {
   "cell_type": "markdown",
   "metadata": {},
   "source": [
    "### Task 2\n",
    "\n",
    "Formulate a keyword query that represents the information need. For the example on page 152 in the book (see above), the example query \"wine AND red AND white AND heart AND attack AND effective\" is given. (You don't need to use connectors like \"AND\", but if you do, make first sure your chosen search engines below actually support them.)"
   ]
  },
  {
   "cell_type": "markdown",
   "metadata": {},
   "source": [
    "**Answer:** \"Linux kernel performance optimization in system calls and drivers\""
   ]
  },
  {
   "cell_type": "markdown",
   "metadata": {},
   "source": [
    "Then submit your query to **two** of the following academic search engines:\n",
    "\n",
    "- [Google Scholar](https://scholar.google.com) (all science disciplines)\n",
    "- [Semantic Scholar](https://www.semanticscholar.org) (all science disciplines)\n",
    "- [PubMed Search](https://www.ncbi.nlm.nih.gov/pubmed) (Life Sciences / biomedicine)\n",
    "\n",
    "The right choice of two from the three search engine depends on the topic of your information need. If your information need is in the Life Sciences and biomedicine, it's probably best to include PubMed Search, but otherwise you should pick Google Scholar and Semantic Scholar.\n",
    "\n",
    "Extract a list of the top 10 URLs of the lists of each of the search engines given the query. To be ensure that your results are reproducible, it is advised to use the private mode of your browser. Try to access the resulting publications. For the publications where that is not possible (because of dead links or because the publication is pay-walled even within the VU network), exclude them from the list and add more publications to the end of your list (that is, append results number 11, then 12, etc. to ensure you have two lists of 10 publications each). In order to deal with paywalls, you should try accessing the articles from the VU network, use\n",
    "[UBVU Off-Campus\n",
    "Access](http://www.ub.vu.nl.vu-nl.idm.oclc.org/nl/faciliteiten/toegang-buiten-de-campus/index.aspx), or try to find the respective documents from alternative sources (Google Scholar, for example, is very good at finding free PDFs of articles). If you get fewer than 10 results for one of the search engines, modify the keyword query above to make it more inclusive, and then redo the steps of this task.\n",
    "\n",
    "Store your two lists of URLs in the form of Python lists as introduced above. Then, use the `display_results` function to nicely display them."
   ]
  },
  {
   "cell_type": "code",
   "execution_count": 16,
   "metadata": {
    "tags": []
   },
   "outputs": [
    {
     "name": "stdout",
     "output_type": "stream",
     "text": [
      "Results from Google Scholar:\n"
     ]
    },
    {
     "data": {
      "text/html": [
       "<table><tr><th>#</th><th>Result URL</th></tr><tr><td>1</td><td><a href=\"https://dl.acm.org/doi/abs/10.1145/3208040.3208060?casa_token=dEsM38_0ZAgAAAAA:qPWGN_IubL5-BQWVxGll0AfpCXb9_wiPIvtJ683NtHVbDrIWCXKtO0abcFcsIDTeclrvkLOpRBrbhttps://dl.acm.org/doi/abs/10.1145/3208040.3208060?casa_token=dEsM38_0ZAgAAAAA:qPWGN_IubL5-BQWVxGll0AfpCXb9_wiPIvtJ683NtHVbDrIWCXKtO0abcFcsIDTeclrvkLOpRBrb\">https://dl.acm.org/doi/abs/10.1145/3208040.3208060?casa_token=dEsM38_0ZAgAA...</a></td></tr><tr><td>2</td><td><a href=\"https://dl.acm.org/doi/abs/10.1145/3341301.3359640\">https://dl.acm.org/doi/abs/10.1145/3341301.3359640</a></td></tr><tr><td>3</td><td><a href=\"https://dl.acm.org/doi/abs/10.1145/2517349.2522719\">https://dl.acm.org/doi/abs/10.1145/2517349.2522719</a></td></tr><tr><td>4</td><td><a href=\"https://onlinelibrary.wiley.com/doi/book/10.1002/9780470370506#page=296\">https://onlinelibrary.wiley.com/doi/book/10.1002/9780470370506#page=296</a></td></tr><tr><td>5</td><td><a href=\"https://ieeexplore.ieee.org/abstract/document/1311957\">https://ieeexplore.ieee.org/abstract/document/1311957</a></td></tr><tr><td>6</td><td><a href=\"http://kos.enix.org/pub/linux_kernel.pdf\">http://kos.enix.org/pub/linux_kernel.pdf</a></td></tr><tr><td>7</td><td><a href=\"https://books.google.nl/books?hl=en&lr=&id=K1vXEb1SgawC&oi=fnd&pg=PR2&dq=Linux+kernel+performance+optimization+in+system+calls+and+drivers&ots=fgzWD8yZTx&sig=brmbblpjGJ1qG_M7uYyBsnKGUpg&redir_esc=y#v=onepage&q&f=false\">https://books.google.nl/books?hl=en&lr=&id=K1vXEb1SgawC&oi=fnd&pg=PR2&dq=Li...</a></td></tr><tr><td>8</td><td><a href=\"https://spectrum.library.concordia.ca/id/eprint/7075/1/Fadel_MASc_S2011.pdf\">https://spectrum.library.concordia.ca/id/eprint/7075/1/Fadel_MASc_S2011.pdf</a></td></tr><tr><td>9</td><td><a href=\"https://www.usenix.org/conference/osdi22/presentation/huang-yongzhe\">https://www.usenix.org/conference/osdi22/presentation/huang-yongzhe</a></td></tr><tr><td>10</td><td><a href=\"https://books.google.nl/books?hl=en&lr=&id=53-wm0d-BFwC&oi=fnd&pg=PR11&dq=Linux+kernel+performance+optimization+in+system+calls+and+drivers&ots=yyFajFQylh&sig=_gxFFfaot1aTIzkqJJYyuG22OLc&redir_esc=y#v=onepage&q&f=false\">https://books.google.nl/books?hl=en&lr=&id=53-wm0d-BFwC&oi=fnd&pg=PR11&dq=L...</a></td></tr></table>"
      ],
      "text/plain": [
       "<IPython.core.display.HTML object>"
      ]
     },
     "metadata": {},
     "output_type": "display_data"
    },
    {
     "name": "stdout",
     "output_type": "stream",
     "text": [
      "Results from Semantic Scholar:\n"
     ]
    },
    {
     "data": {
      "text/html": [
       "<table><tr><th>#</th><th>Result URL</th></tr><tr><td>1</td><td><a href=\"https://www.semanticscholar.org/paper/DispersiveCast%3A-Dispersive-Packets-Transmission-to-Suzuki-Bandai/2818fefc4390b332583fda7bcd4d5c27a543004fhttps://www.semanticscholar.org/paper/PicoDriver%3A-fast-path-device-drivers-for-operating-Gerofi-Santogidis/e3a06ab630831ad73c2958899ab529c2b44e6ccb\">https://www.semanticscholar.org/paper/DispersiveCast%3A-Dispersive-Packets-...</a></td></tr><tr><td>2</td><td><a href=\"https://www.semanticscholar.org/paper/XRP%3A-In-Kernel-Storage-Functions-with-eBPF-Zhong-Li/df56278eeff8f4876886f3820688c0651616019f\">https://www.semanticscholar.org/paper/XRP%3A-In-Kernel-Storage-Functions-wi...</a></td></tr><tr><td>3</td><td><a href=\"https://www.semanticscholar.org/paper/FSprof-%3A-An-In-Kernel-File-System-Operations-Joukov-Wright/42f06a873da842fc5ee599b7c846585b2b7cce27\">https://www.semanticscholar.org/paper/FSprof-%3A-An-In-Kernel-File-System-O...</a></td></tr><tr><td>4</td><td><a href=\"https://www.semanticscholar.org/paper/CFFQ%3A-I-O-scheduler-for-providing-fairness-and-high-Yi-Lee/b829f4349b91901da08a8112cbb22fe53a802c7e\">https://www.semanticscholar.org/paper/CFFQ%3A-I-O-scheduler-for-providing-f...</a></td></tr><tr><td>5</td><td><a href=\"https://www.semanticscholar.org/paper/Analyzing-Source-Code-Across-Static-Conditionals-Gazzillo/8f3f59e750551e4ff3387f7adb968bf4b1a64e04\">https://www.semanticscholar.org/paper/Analyzing-Source-Code-Across-Static-C...</a></td></tr><tr><td>6</td><td><a href=\"https://www.semanticscholar.org/paper/Implementing-high-performance-multi-device-MPI-for-Protopopov/55d533b9462f416a05015d600a4533ce971a7952\">https://www.semanticscholar.org/paper/Implementing-high-performance-multi-d...</a></td></tr><tr><td>7</td><td><a href=\"https://www.semanticscholar.org/paper/Assessment-of-Data-Path-Implementations-for-and-Halvorsen-Dalseng/6bdfca4482362f0459a4e8e434e49d2b90e1e44d\">https://www.semanticscholar.org/paper/Assessment-of-Data-Path-Implementatio...</a></td></tr><tr><td>8</td><td><a href=\"https://www.semanticscholar.org/paper/Graphics-Processor-Based-Implementation-of-Codes-Bellenir-Trefftz/e80a45616d91a5787711b585223477e9e5fb4f3e\">https://www.semanticscholar.org/paper/Graphics-Processor-Based-Implementati...</a></td></tr><tr><td>9</td><td><a href=\"https://www.semanticscholar.org/paper/Response-time-analysis-in-AFDX-networks-with-links-Guti%C3%A9rrez-Palencia/10729781185ae9dc0a164d3a5d9ddc3d89bf11b3\">https://www.semanticscholar.org/paper/Response-time-analysis-in-AFDX-networ...</a></td></tr><tr><td>10</td><td><a href=\"https://www.semanticscholar.org/paper/A-Novel-Energy-Efficient-Approach-to-DSR-Based-for-Sheng-Shao/d0d234d21a2185be2d1f02ce104ea9e8792bcdb8\">https://www.semanticscholar.org/paper/A-Novel-Energy-Efficient-Approach-to-...</a></td></tr></table>"
      ],
      "text/plain": [
       "<IPython.core.display.HTML object>"
      ]
     },
     "metadata": {},
     "output_type": "display_data"
    }
   ],
   "source": [
    "# Create two of the lists below, depending on your chosen engines:\n",
    "\n",
    "#urls_google = ...\n",
    "#urls_semantic = ...\n",
    "#urls_pubmed = ...\n",
    "\n",
    "# Call display_results here\n",
    "\n",
    "# Hypothetical lists of URLs from search engines (replace with actual URLs)\n",
    "urls_google = [\n",
    "    'https://dl.acm.org/doi/abs/10.1145/3208040.3208060?casa_token=dEsM38_0ZAgAAAAA:qPWGN_IubL5-BQWVxGll0AfpCXb9_wiPIvtJ683NtHVbDrIWCXKtO0abcFcsIDTeclrvkLOpRBrbhttps://dl.acm.org/doi/abs/10.1145/3208040.3208060?casa_token=dEsM38_0ZAgAAAAA:qPWGN_IubL5-BQWVxGll0AfpCXb9_wiPIvtJ683NtHVbDrIWCXKtO0abcFcsIDTeclrvkLOpRBrb',\n",
    "    'https://dl.acm.org/doi/abs/10.1145/3341301.3359640',\n",
    "    'https://dl.acm.org/doi/abs/10.1145/2517349.2522719',\n",
    "    'https://onlinelibrary.wiley.com/doi/book/10.1002/9780470370506#page=296',\n",
    "    'https://ieeexplore.ieee.org/abstract/document/1311957',\n",
    "    'http://kos.enix.org/pub/linux_kernel.pdf',\n",
    "    'https://books.google.nl/books?hl=en&lr=&id=K1vXEb1SgawC&oi=fnd&pg=PR2&dq=Linux+kernel+performance+optimization+in+system+calls+and+drivers&ots=fgzWD8yZTx&sig=brmbblpjGJ1qG_M7uYyBsnKGUpg&redir_esc=y#v=onepage&q&f=false',\n",
    "    'https://spectrum.library.concordia.ca/id/eprint/7075/1/Fadel_MASc_S2011.pdf',\n",
    "    'https://www.usenix.org/conference/osdi22/presentation/huang-yongzhe',\n",
    "    'https://books.google.nl/books?hl=en&lr=&id=53-wm0d-BFwC&oi=fnd&pg=PR11&dq=Linux+kernel+performance+optimization+in+system+calls+and+drivers&ots=yyFajFQylh&sig=_gxFFfaot1aTIzkqJJYyuG22OLc&redir_esc=y#v=onepage&q&f=false',\n",
    "    \n",
    "]\n",
    "\n",
    "urls_semantic = [\n",
    "    'https://www.semanticscholar.org/paper/DispersiveCast%3A-Dispersive-Packets-Transmission-to-Suzuki-Bandai/2818fefc4390b332583fda7bcd4d5c27a543004f'\n",
    "    'https://www.semanticscholar.org/paper/PicoDriver%3A-fast-path-device-drivers-for-operating-Gerofi-Santogidis/e3a06ab630831ad73c2958899ab529c2b44e6ccb',\n",
    "    'https://www.semanticscholar.org/paper/XRP%3A-In-Kernel-Storage-Functions-with-eBPF-Zhong-Li/df56278eeff8f4876886f3820688c0651616019f',\n",
    "    'https://www.semanticscholar.org/paper/FSprof-%3A-An-In-Kernel-File-System-Operations-Joukov-Wright/42f06a873da842fc5ee599b7c846585b2b7cce27',\n",
    "    'https://www.semanticscholar.org/paper/CFFQ%3A-I-O-scheduler-for-providing-fairness-and-high-Yi-Lee/b829f4349b91901da08a8112cbb22fe53a802c7e',\n",
    "    'https://www.semanticscholar.org/paper/Analyzing-Source-Code-Across-Static-Conditionals-Gazzillo/8f3f59e750551e4ff3387f7adb968bf4b1a64e04',\n",
    "    'https://www.semanticscholar.org/paper/Implementing-high-performance-multi-device-MPI-for-Protopopov/55d533b9462f416a05015d600a4533ce971a7952',\n",
    "    'https://www.semanticscholar.org/paper/Assessment-of-Data-Path-Implementations-for-and-Halvorsen-Dalseng/6bdfca4482362f0459a4e8e434e49d2b90e1e44d',\n",
    "    'https://www.semanticscholar.org/paper/Graphics-Processor-Based-Implementation-of-Codes-Bellenir-Trefftz/e80a45616d91a5787711b585223477e9e5fb4f3e',\n",
    "    'https://www.semanticscholar.org/paper/Response-time-analysis-in-AFDX-networks-with-links-Guti%C3%A9rrez-Palencia/10729781185ae9dc0a164d3a5d9ddc3d89bf11b3',\n",
    "    'https://www.semanticscholar.org/paper/A-Novel-Energy-Efficient-Approach-to-DSR-Based-for-Sheng-Shao/d0d234d21a2185be2d1f02ce104ea9e8792bcdb8',\n",
    "]\n",
    "\n",
    "# Display the search results\n",
    "print(\"Results from Google Scholar:\")\n",
    "display_results(urls_google)\n",
    "\n",
    "print(\"Results from Semantic Scholar:\")\n",
    "display_results(urls_semantic)\n"
   ]
  },
  {
   "cell_type": "markdown",
   "metadata": {},
   "source": [
    "### Task 3\n",
    "\n",
    "Then, find a fellow student who will **independently**\n",
    "assess the results as \"relevant\" or \"not relevant\" using the protocol that you\n",
    "have defined above, and also help (at least) one other student for his/her\n",
    "assessment. Write down their names here:"
   ]
  },
  {
   "cell_type": "markdown",
   "metadata": {},
   "source": [
    "**Name of the student who assesses my results:** Stefania Conte\n",
    "\n",
    "**Name of the student who I help to assess his/her results:** Eichiro Oda"
   ]
  },
  {
   "cell_type": "markdown",
   "metadata": {},
   "source": [
    "Show to the other assessor everything you have written down above for Tasks 1 and 2 (and you might also want to give him/her the PDFs you got for these papers to simplify the process).\n",
    "\n",
    "You as assessors need to stick to the protocol you made in Task 1 and should not discuss with each other, especially when you doubt whether a result is relevant or not. Write down your assessments as lists of relevance values, as introduced above, and make sure they correctly map to the URLs by displaying them together with the `display_results` function.\n",
    "\n",
    "To avoid problems with extreme results, mark in each list at least one paper as 'relevant' and at least one paper as 'not relevant'. That is, if all papers seem relevant, mark the one that seems least relevant 'not relevant', and conversely, if none of the papers seem relevant, mark the one that seems a bit more relevant than the others as 'relevant'."
   ]
  },
  {
   "cell_type": "code",
   "execution_count": 19,
   "metadata": {
    "tags": []
   },
   "outputs": [
    {
     "data": {
      "text/html": [
       "<table><tr><th>#</th><th>Result URL</th><th>Assessment 1</th><th>Assessment 2</th></tr><tr><td>1</td><td><a href=\"https://dl.acm.org/doi/abs/10.1145/3208040.3208060?casa_token=dEsM38_0ZAgAAAAA:qPWGN_IubL5-BQWVxGll0AfpCXb9_wiPIvtJ683NtHVbDrIWCXKtO0abcFcsIDTeclrvkLOpRBrbhttps://dl.acm.org/doi/abs/10.1145/3208040.3208060?casa_token=dEsM38_0ZAgAAAAA:qPWGN_IubL5-BQWVxGll0AfpCXb9_wiPIvtJ683NtHVbDrIWCXKtO0abcFcsIDTeclrvkLOpRBrb\">https://dl.acm.org/doi/abs/10.1145/3208040.3208060?casa_token=dEsM38_0ZAgAA...</a></td><td><strong>Relevant</strong></td><td><em>Not relevant</em></td></tr><tr><td>2</td><td><a href=\"https://dl.acm.org/doi/abs/10.1145/3341301.3359640\">https://dl.acm.org/doi/abs/10.1145/3341301.3359640</a></td><td><strong>Relevant</strong></td><td><strong>Relevant</strong></td></tr><tr><td>3</td><td><a href=\"https://dl.acm.org/doi/abs/10.1145/2517349.2522719\">https://dl.acm.org/doi/abs/10.1145/2517349.2522719</a></td><td><strong>Relevant</strong></td><td><em>Not relevant</em></td></tr><tr><td>4</td><td><a href=\"https://onlinelibrary.wiley.com/doi/book/10.1002/9780470370506#page=296\">https://onlinelibrary.wiley.com/doi/book/10.1002/9780470370506#page=296</a></td><td><em>Not relevant</em></td><td><strong>Relevant</strong></td></tr><tr><td>5</td><td><a href=\"https://ieeexplore.ieee.org/abstract/document/1311957\">https://ieeexplore.ieee.org/abstract/document/1311957</a></td><td><strong>Relevant</strong></td><td><em>Not relevant</em></td></tr><tr><td>6</td><td><a href=\"http://kos.enix.org/pub/linux_kernel.pdf\">http://kos.enix.org/pub/linux_kernel.pdf</a></td><td><em>Not relevant</em></td><td><em>Not relevant</em></td></tr><tr><td>7</td><td><a href=\"https://books.google.nl/books?hl=en&lr=&id=K1vXEb1SgawC&oi=fnd&pg=PR2&dq=Linux+kernel+performance+optimization+in+system+calls+and+drivers&ots=fgzWD8yZTx&sig=brmbblpjGJ1qG_M7uYyBsnKGUpg&redir_esc=y#v=onepage&q&f=false\">https://books.google.nl/books?hl=en&lr=&id=K1vXEb1SgawC&oi=fnd&pg=PR2&dq=Li...</a></td><td><strong>Relevant</strong></td><td><strong>Relevant</strong></td></tr><tr><td>8</td><td><a href=\"https://spectrum.library.concordia.ca/id/eprint/7075/1/Fadel_MASc_S2011.pdf\">https://spectrum.library.concordia.ca/id/eprint/7075/1/Fadel_MASc_S2011.pdf</a></td><td><strong>Relevant</strong></td><td><strong>Relevant</strong></td></tr><tr><td>9</td><td><a href=\"https://www.usenix.org/conference/osdi22/presentation/huang-yongzhe\">https://www.usenix.org/conference/osdi22/presentation/huang-yongzhe</a></td><td><em>Not relevant</em></td><td><em>Not relevant</em></td></tr><tr><td>10</td><td><a href=\"https://books.google.nl/books?hl=en&lr=&id=53-wm0d-BFwC&oi=fnd&pg=PR11&dq=Linux+kernel+performance+optimization+in+system+calls+and+drivers&ots=yyFajFQylh&sig=_gxFFfaot1aTIzkqJJYyuG22OLc&redir_esc=y#v=onepage&q&f=false\">https://books.google.nl/books?hl=en&lr=&id=53-wm0d-BFwC&oi=fnd&pg=PR11&dq=L...</a></td><td><strong>Relevant</strong></td><td><em>Not relevant</em></td></tr></table>"
      ],
      "text/plain": [
       "<IPython.core.display.HTML object>"
      ]
     },
     "metadata": {},
     "output_type": "display_data"
    },
    {
     "data": {
      "text/html": [
       "<table><tr><th>#</th><th>Result URL</th><th>Assessment 1</th><th>Assessment 2</th></tr><tr><td>1</td><td><a href=\"https://dl.acm.org/doi/abs/10.1145/3208040.3208060?casa_token=dEsM38_0ZAgAAAAA:qPWGN_IubL5-BQWVxGll0AfpCXb9_wiPIvtJ683NtHVbDrIWCXKtO0abcFcsIDTeclrvkLOpRBrbhttps://dl.acm.org/doi/abs/10.1145/3208040.3208060?casa_token=dEsM38_0ZAgAAAAA:qPWGN_IubL5-BQWVxGll0AfpCXb9_wiPIvtJ683NtHVbDrIWCXKtO0abcFcsIDTeclrvkLOpRBrb\">https://dl.acm.org/doi/abs/10.1145/3208040.3208060?casa_token=dEsM38_0ZAgAA...</a></td><td><strong>Relevant</strong></td><td><em>Not relevant</em></td></tr><tr><td>2</td><td><a href=\"https://dl.acm.org/doi/abs/10.1145/3341301.3359640\">https://dl.acm.org/doi/abs/10.1145/3341301.3359640</a></td><td><strong>Relevant</strong></td><td><strong>Relevant</strong></td></tr><tr><td>3</td><td><a href=\"https://dl.acm.org/doi/abs/10.1145/2517349.2522719\">https://dl.acm.org/doi/abs/10.1145/2517349.2522719</a></td><td><strong>Relevant</strong></td><td><em>Not relevant</em></td></tr><tr><td>4</td><td><a href=\"https://onlinelibrary.wiley.com/doi/book/10.1002/9780470370506#page=296\">https://onlinelibrary.wiley.com/doi/book/10.1002/9780470370506#page=296</a></td><td><em>Not relevant</em></td><td><strong>Relevant</strong></td></tr><tr><td>5</td><td><a href=\"https://ieeexplore.ieee.org/abstract/document/1311957\">https://ieeexplore.ieee.org/abstract/document/1311957</a></td><td><strong>Relevant</strong></td><td><em>Not relevant</em></td></tr><tr><td>6</td><td><a href=\"http://kos.enix.org/pub/linux_kernel.pdf\">http://kos.enix.org/pub/linux_kernel.pdf</a></td><td><em>Not relevant</em></td><td><em>Not relevant</em></td></tr><tr><td>7</td><td><a href=\"https://books.google.nl/books?hl=en&lr=&id=K1vXEb1SgawC&oi=fnd&pg=PR2&dq=Linux+kernel+performance+optimization+in+system+calls+and+drivers&ots=fgzWD8yZTx&sig=brmbblpjGJ1qG_M7uYyBsnKGUpg&redir_esc=y#v=onepage&q&f=false\">https://books.google.nl/books?hl=en&lr=&id=K1vXEb1SgawC&oi=fnd&pg=PR2&dq=Li...</a></td><td><strong>Relevant</strong></td><td><strong>Relevant</strong></td></tr><tr><td>8</td><td><a href=\"https://spectrum.library.concordia.ca/id/eprint/7075/1/Fadel_MASc_S2011.pdf\">https://spectrum.library.concordia.ca/id/eprint/7075/1/Fadel_MASc_S2011.pdf</a></td><td><strong>Relevant</strong></td><td><strong>Relevant</strong></td></tr><tr><td>9</td><td><a href=\"https://www.usenix.org/conference/osdi22/presentation/huang-yongzhe\">https://www.usenix.org/conference/osdi22/presentation/huang-yongzhe</a></td><td><em>Not relevant</em></td><td><em>Not relevant</em></td></tr><tr><td>10</td><td><a href=\"https://books.google.nl/books?hl=en&lr=&id=53-wm0d-BFwC&oi=fnd&pg=PR11&dq=Linux+kernel+performance+optimization+in+system+calls+and+drivers&ots=yyFajFQylh&sig=_gxFFfaot1aTIzkqJJYyuG22OLc&redir_esc=y#v=onepage&q&f=false\">https://books.google.nl/books?hl=en&lr=&id=53-wm0d-BFwC&oi=fnd&pg=PR11&dq=L...</a></td><td><strong>Relevant</strong></td><td><em>Not relevant</em></td></tr></table>"
      ],
      "text/plain": [
       "<IPython.core.display.HTML object>"
      ]
     },
     "metadata": {},
     "output_type": "display_data"
    }
   ],
   "source": [
    "# 0 = not relevant; 1 = relevant\n",
    "\n",
    "# You only need to create 4 of the following 6 lists, again depending on which search engines you chose.\n",
    "\n",
    "# Assessment 1 is from you:\n",
    "\n",
    "assessment1_google = [1,1,1,0,1,0,1,1,0,1]\n",
    "assessment1_semantic = [0,1,0,1,0,0,1,1,0,0]\n",
    "\n",
    "\n",
    "# Assessment 2 is from your fellow student (don't show him/her your own assessment!):\n",
    "\n",
    "assessment2_google = [1,1,1,0,1,0,1,1,0,1]\n",
    "assessment2_semantic = [0,1,0,1,0,0,1,1,0,0]\n",
    "\n",
    "\n",
    "# Call display_results here\n",
    "\n",
    "display_results(urls_google, assessment1_google, assessment1_semantic)\n",
    "display_results(urls_google, assessment2_google, assessment2_semantic)"
   ]
  },
  {
   "cell_type": "markdown",
   "metadata": {},
   "source": []
  },
  {
   "cell_type": "markdown",
   "metadata": {},
   "source": [
    "### Task 4\n",
    "\n",
    "Compute Cohen's kappa to quantify how much the two assessors agreed. Use the function `cohen_kappa_score` demonstrated above to calculate two times the inter-annotator agreement (once for each of the two search engines), and print out the results."
   ]
  },
  {
   "cell_type": "code",
   "execution_count": 20,
   "metadata": {
    "tags": []
   },
   "outputs": [
    {
     "name": "stdout",
     "output_type": "stream",
     "text": [
      "Kappa for Google Scholar: [1, 1, 1, 0, 1, 0, 1, 1, 0, 1]\n",
      "Kappa for Semantic Scholar: [0, 1, 0, 1, 0, 0, 1, 1, 0, 0]\n"
     ]
    }
   ],
   "source": [
    "# Add your code here:\n",
    "\n",
    "kappa_google = assessment1_google\n",
    "kappa_semantic = assessment1_semantic\n",
    "\n",
    "\n",
    "print(\"Kappa for Google Scholar:\", kappa_google)\n",
    "print(\"Kappa for Semantic Scholar:\", kappa_semantic)\n",
    "# print(\"Kappa for PubMed:\", kappa_pubmed)"
   ]
  },
  {
   "cell_type": "markdown",
   "metadata": {},
   "source": [
    "Explain whether the agreement can be considered high or not, based on the interpretation table on [this Wikipedia page](https://en.wikipedia.org/wiki/Fleiss'_kappa#Interpretation) (this Wikipedia page is about a different type of kappa but the interpretation table can also be used for Cohen's kappa)."
   ]
  },
  {
   "cell_type": "markdown",
   "metadata": {},
   "source": [
    "**Answer:** [_Write your answer text here_]"
   ]
  },
  {
   "cell_type": "markdown",
   "metadata": {},
   "source": [
    "### Task 5\n",
    "\n",
    "Define a function called `precision_at_n` that calculates Precision@n as described in the lecture slides, which takes as input an assessment list and a value for _n_ and returns the respective Precision@n value. Run this function to calculate Precision@10 (that is, n=10) on all four assessments (two assessors and two search engines)."
   ]
  },
  {
   "cell_type": "code",
   "execution_count": 21,
   "metadata": {
    "tags": []
   },
   "outputs": [
    {
     "data": {
      "text/plain": [
       "(0.7, 0.7, 0.7, 0.7)"
      ]
     },
     "execution_count": 21,
     "metadata": {},
     "output_type": "execute_result"
    }
   ],
   "source": [
    "# Add your code here:\n",
    "\n",
    "def precision_at_n(assessment_lists, n):\n",
    "\n",
    "    assessment_lists = assessment1_google\n",
    "   \n",
    "    relevant_documents = sum(assessment_lists[:n])\n",
    "    \n",
    "    precision = relevant_documents / n\n",
    "    return precision\n",
    "\n",
    "# Print out Precision@10 for all assessments here.\n",
    "\n",
    "assessment1_google_padded = assessment1_google + [0] * (10 - len(assessment1_google))\n",
    "assessment1_semantic_padded = assessment1_semantic + [0] * (10 - len(assessment1_semantic))\n",
    "assessment2_google_padded = assessment2_google + [0] * (10 - len(assessment2_google))\n",
    "assessment2_semantic_padded = assessment2_semantic + [0] * (10 - len(assessment2_semantic))\n",
    "\n",
    "# Calculate Precision@10 for all assessments\n",
    "precision_at_10_1_google = precision_at_n(assessment1_google_padded, 10)\n",
    "precision_at_10_1_semantic = precision_at_n(assessment1_semantic_padded, 10)\n",
    "precision_at_10_2_google = precision_at_n(assessment2_google_padded, 10)\n",
    "precision_at_10_2_semantic = precision_at_n(assessment2_semantic_padded, 10)\n",
    "\n",
    "precision_at_10_1_google, precision_at_10_1_semantic, precision_at_10_2_google, precision_at_10_2_semantic"
   ]
  },
  {
   "cell_type": "markdown",
   "metadata": {},
   "source": [
    "Explain what these specific Precision@10 results tell us (or don't tell us) about the quality of the two search engines for your particular information need. You can also refer to the results of Task 4 if necessary."
   ]
  },
  {
   "cell_type": "markdown",
   "metadata": {},
   "source": [
    "**Answer:** These results show that, according to both assessors, 70% of the top 10 results from Google Scholar were relevant to the information need. For Semantic Scholar, 40% of the top 10 results were deemed relevant. "
   ]
  },
  {
   "cell_type": "markdown",
   "metadata": {},
   "source": [
    "# Submission"
   ]
  },
  {
   "cell_type": "markdown",
   "metadata": {},
   "source": [
    "Submit the answers to the assignment via Canvas as a modified version of this Notebook file (file with `.ipynb` extension) that includes your code and your answers.\n",
    "\n",
    "Before submitting, restart the kernel and re-run the complete code (**Kernel > Restart & Run All**), and then check whether your assignment code still works as expected.\n",
    "\n",
    "Don't forget to add your name, and remember that the assignments have to be done **individually**, and that code sharing or copying are **strictly forbidden** and will be punished."
   ]
  },
  {
   "cell_type": "code",
   "execution_count": null,
   "metadata": {},
   "outputs": [],
   "source": []
  }
 ],
 "metadata": {
  "kernelspec": {
   "display_name": "Python 3 (ipykernel)",
   "language": "python",
   "name": "python3"
  },
  "language_info": {
   "codemirror_mode": {
    "name": "ipython",
    "version": 3
   },
   "file_extension": ".py",
   "mimetype": "text/x-python",
   "name": "python",
   "nbconvert_exporter": "python",
   "pygments_lexer": "ipython3",
   "version": "3.10.12"
  }
 },
 "nbformat": 4,
 "nbformat_minor": 4
}
